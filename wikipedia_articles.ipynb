{
 "cells": [
  {
   "cell_type": "code",
   "execution_count": 1,
   "metadata": {},
   "outputs": [],
   "source": [
    "# import libs \n",
    "import tensorflow as tf \n",
    "\n",
    "# helper libs \n",
    "import numpy as np # matrix maths \n",
    "import random # for randomness "
   ]
  },
  {
   "cell_type": "code",
   "execution_count": 6,
   "metadata": {},
   "outputs": [
    {
     "name": "stdout",
     "output_type": "stream",
     "text": [
      "Lenght of train chars 10780437 and of test chars 1255018\n",
      "Test chars :  \n",
      " = Robert <unk> = \n",
      " \n",
      " Robert <unk> is an English film , television and theatre actor . He had a guest @-@ starring role on the television series The Bill in 2000 . This was followed by a starring role in the play Herons written by Simon Stephens , which was performed in 2001 at the Royal Court Theatre . He had a guest role in the television series Judge John <unk> in 2002 . In 2004 <unk> landed a role as \" Craig \" in the episode \" Teddy 's Story \" of the television series The Long Firm ; he starred alongside actors Mark Strong and Derek Jacobi . He was cast in the 2005 theatre productions of the Philip Ridley play Mercury Fur , which was performed at the Drum Theatre in Plymouth and the <unk> <unk> Factory in London . He was directed by John <unk> and starred alongside Ben <unk> , Shane <unk> , Harry Kent , Fraser <unk> , Sophie Stanton and Dominic Hall . \n",
      " In 2006 , <unk> starred alongside <unk> in the play <unk> written by Mark <unk> . He appeared on a 2006 episode of the televisio\n",
      "Train chars :  \n",
      " = Valkyria Chronicles III = \n",
      " \n",
      " Senjō no Valkyria 3 : <unk> Chronicles ( Japanese : 戦場のヴァルキュリア3 , lit . Valkyria of the Battlefield 3 ) , commonly referred to as Valkyria Chronicles III outside Japan , is a tactical role @-@ playing video game developed by Sega and Media.Vision for the PlayStation Portable . Released in January 2011 in Japan , it is the third game in the Valkyria series . <unk> the same fusion of tactical and real @-@ time gameplay as its predecessors , the story runs parallel to the first game and follows the \" Nameless \" , a penal military unit serving the nation of Gallia during the Second Europan War who perform secret black operations and are pitted against the Imperial unit \" <unk> Raven \" . \n",
      " The game began development in 2010 , carrying over a large portion of the work done on Valkyria Chronicles II . While it retained the standard features of the series , it also underwent multiple adjustments , such as making the game more <unk> for series newcomers . Char\n"
     ]
    }
   ],
   "source": [
    "# load dataset \n",
    "\n",
    "wiki_train = open('./wikitext-2/wiki.train.tokens', 'rb').read().decode('utf-8')\n",
    "wiki_test = open('./wikitext-2/wiki.test.tokens', 'rb').read().decode('utf-8')\n",
    "\n",
    "print(\"Lenght of train chars {} and of test chars {}\".format(len(wiki_train), len(wiki_test)))\n",
    "\n",
    "# print first 1000 chars of test and train \n",
    "print(\"Test chars :\", wiki_test[:1000])\n",
    "print(\"Train chars :\", wiki_train[:1000])"
   ]
  },
  {
   "cell_type": "code",
   "execution_count": 7,
   "metadata": {},
   "outputs": [
    {
     "name": "stdout",
     "output_type": "stream",
     "text": [
      "Lenght of chars 283\n",
      "['\\n', ' ', '!', '\"', '#', '$', '%', '&', \"'\", '(', ')', '*', '+', ',', '-', '.', '/', '0', '1', '2', '3', '4', '5', '6', '7', '8', '9', ':', ';', '<', '=', '>', '?', '@', 'A', 'B', 'C', 'D', 'E', 'F', 'G', 'H', 'I', 'J', 'K', 'L', 'M', 'N', 'O', 'P', 'Q', 'R', 'S', 'T', 'U', 'V', 'W', 'X', 'Y', 'Z', '[', '\\\\', ']', '^', '`', 'a', 'b', 'c', 'd', 'e', 'f', 'g', 'h', 'i', 'j', 'k', 'l', 'm', 'n', 'o', 'p', 'q', 'r', 's', 't', 'u', 'v', 'w', 'x', 'y', 'z', '|', '~', '¡', '£', '¥', '§', '°', '±', '²', '³', 'µ', '·', '½', 'Á', 'Å', 'Æ', 'É', 'Í', 'Î', 'Ö', '×', 'Ø', 'Ú', 'Ü', 'Þ', 'à', 'á', 'â', 'ã', 'ä', 'å', 'ç', 'è', 'é', 'ê', 'ë', 'ì', 'í', 'î', 'ñ', 'ò', 'ó', 'ô', 'ö', 'ø', 'ú', 'û', 'ü', 'Ā', 'ā', 'ă', 'ć', 'č', 'Đ', 'đ', 'ė', 'ī', 'Ł', 'ł', 'ń', 'Ō', 'ō', 'ś', 'ş', 'š', 'ū', 'ų', 'Ż', 'ž', 'ơ', 'ư', 'ʻ', 'ʿ', '̃', 'α', 'β', 'γ', 'κ', 'μ', 'С', 'а', 'в', 'е', 'к', 'о', 'с', 'т', 'я', 'ا', 'ح', 'ص', 'ل', 'ن', 'ه', '्', 'ก', 'ง', 'ณ', 'ต', 'ม', 'ย', 'ร', 'ล', 'ั', 'า', 'ิ', '่', '์', 'გ', 'დ', 'ვ', 'ზ', 'ი', 'კ', 'ო', 'რ', 'ს', 'უ', 'ც', 'ძ', 'წ', 'ხ', 'ჯ', '჻', 'ḥ', 'ṃ', 'ṅ', 'ṣ', 'ṭ', 'ṯ', 'ả', 'ấ', 'ầ', 'ắ', 'ễ', 'ệ', 'ị', 'ớ', 'ử', 'ỳ', '‑', '–', '—', '‘', '’', '“', '”', '„', '†', '…', '′', '″', '⁄', '₤', '€', '₹', '⅓', '⅔', '→', '−', '≤', '☉', '♭', '♯', '〈', '〉', 'の', 'ァ', 'ア', 'キ', 'ス', 'ッ', 'ト', 'プ', 'ュ', 'リ', 'ル', 'ヴ', '・', '動', '場', '大', '戦', '攻', '機', '殻', '火', '礮', '空', '隊', '\\ufeff', '～']\n"
     ]
    }
   ],
   "source": [
    "# list all the unique chars for the list \n",
    "chars = sorted(list(set(wiki_train)))\n",
    "chars_size = len(chars)\n",
    "\n",
    "# print lenght \n",
    "print(\"Lenght of chars\", chars_size)\n",
    "print(chars)"
   ]
  },
  {
   "cell_type": "code",
   "execution_count": null,
   "metadata": {},
   "outputs": [],
   "source": [
    "# chars to id mappind \n",
    "chars2id = dict((c, ))"
   ]
  }
 ],
 "metadata": {
  "kernelspec": {
   "display_name": "Python 3",
   "language": "python",
   "name": "python3"
  },
  "language_info": {
   "codemirror_mode": {
    "name": "ipython",
    "version": 3
   },
   "file_extension": ".py",
   "mimetype": "text/x-python",
   "name": "python",
   "nbconvert_exporter": "python",
   "pygments_lexer": "ipython3",
   "version": "3.6.7"
  }
 },
 "nbformat": 4,
 "nbformat_minor": 2
}
